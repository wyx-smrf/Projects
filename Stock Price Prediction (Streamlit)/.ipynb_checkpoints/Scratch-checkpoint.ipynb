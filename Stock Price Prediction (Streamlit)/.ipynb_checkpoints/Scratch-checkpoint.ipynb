{
 "cells": [
  {
   "cell_type": "markdown",
   "id": "7589328a",
   "metadata": {},
   "source": [
    "# Scratch"
   ]
  },
  {
   "cell_type": "code",
   "execution_count": 1,
   "id": "0794fb51",
   "metadata": {},
   "outputs": [],
   "source": [
    "import numpy as np\n",
    "import pandas as pd"
   ]
  },
  {
   "cell_type": "code",
   "execution_count": 2,
   "id": "d5481bcb",
   "metadata": {},
   "outputs": [
    {
     "data": {
      "text/plain": [
       "array([1950.        , 1951.46938776, 1952.93877551, 1954.40816327,\n",
       "       1955.87755102, 1957.34693878, 1958.81632653, 1960.28571429,\n",
       "       1961.75510204, 1963.2244898 , 1964.69387755, 1966.16326531,\n",
       "       1967.63265306, 1969.10204082, 1970.57142857, 1972.04081633,\n",
       "       1973.51020408, 1974.97959184, 1976.44897959, 1977.91836735,\n",
       "       1979.3877551 , 1980.85714286, 1982.32653061, 1983.79591837,\n",
       "       1985.26530612, 1986.73469388, 1988.20408163, 1989.67346939,\n",
       "       1991.14285714, 1992.6122449 , 1994.08163265, 1995.55102041,\n",
       "       1997.02040816, 1998.48979592, 1999.95918367, 2001.42857143,\n",
       "       2002.89795918, 2004.36734694, 2005.83673469, 2007.30612245,\n",
       "       2008.7755102 , 2010.24489796, 2011.71428571, 2013.18367347,\n",
       "       2014.65306122, 2016.12244898, 2017.59183673, 2019.06122449,\n",
       "       2020.53061224, 2022.        ])"
      ]
     },
     "execution_count": 2,
     "metadata": {},
     "output_type": "execute_result"
    }
   ],
   "source": [
    "np.linspace(1950, 2022, num=50)"
   ]
  },
  {
   "cell_type": "code",
   "execution_count": 3,
   "id": "79122c48",
   "metadata": {},
   "outputs": [
    {
     "data": {
      "text/plain": [
       "array([1950.        , 1951.46938776, 1952.93877551, 1954.40816327,\n",
       "       1955.87755102, 1957.34693878, 1958.81632653, 1960.28571429,\n",
       "       1961.75510204, 1963.2244898 , 1964.69387755, 1966.16326531,\n",
       "       1967.63265306, 1969.10204082, 1970.57142857, 1972.04081633,\n",
       "       1973.51020408, 1974.97959184, 1976.44897959, 1977.91836735,\n",
       "       1979.3877551 , 1980.85714286, 1982.32653061, 1983.79591837,\n",
       "       1985.26530612, 1986.73469388, 1988.20408163, 1989.67346939,\n",
       "       1991.14285714, 1992.6122449 , 1994.08163265, 1995.55102041,\n",
       "       1997.02040816, 1998.48979592, 1999.95918367, 2001.42857143,\n",
       "       2002.89795918, 2004.36734694, 2005.83673469, 2007.30612245,\n",
       "       2008.7755102 , 2010.24489796, 2011.71428571, 2013.18367347,\n",
       "       2014.65306122, 2016.12244898, 2017.59183673, 2019.06122449,\n",
       "       2020.53061224, 2022.        ])"
      ]
     },
     "execution_count": 3,
     "metadata": {},
     "output_type": "execute_result"
    }
   ],
   "source": [
    "np.linspace(1950, 2022, 50)"
   ]
  },
  {
   "cell_type": "code",
   "execution_count": 4,
   "id": "e3d5d70a",
   "metadata": {},
   "outputs": [],
   "source": [
    "interval = {'1 Hour', '1h', \n",
    "            '1 Day', '1d', \n",
    "            '5 Days', '5d', \n",
    "            '1 Week', '1wk', \n",
    "            '1 Month', '1mo', \n",
    "            '3 Months', '3mo'}"
   ]
  },
  {
   "cell_type": "code",
   "execution_count": null,
   "id": "5451f6c2",
   "metadata": {},
   "outputs": [],
   "source": []
  },
  {
   "cell_type": "markdown",
   "id": "6c35b8f3",
   "metadata": {},
   "source": [
    "---"
   ]
  },
  {
   "cell_type": "code",
   "execution_count": 5,
   "id": "67490e91",
   "metadata": {},
   "outputs": [
    {
     "data": {
      "text/html": [
       "<div>\n",
       "<style scoped>\n",
       "    .dataframe tbody tr th:only-of-type {\n",
       "        vertical-align: middle;\n",
       "    }\n",
       "\n",
       "    .dataframe tbody tr th {\n",
       "        vertical-align: top;\n",
       "    }\n",
       "\n",
       "    .dataframe thead th {\n",
       "        text-align: right;\n",
       "    }\n",
       "</style>\n",
       "<table border=\"1\" class=\"dataframe\">\n",
       "  <thead>\n",
       "    <tr style=\"text-align: right;\">\n",
       "      <th></th>\n",
       "      <th>Col1</th>\n",
       "      <th>Col2</th>\n",
       "      <th>Col3</th>\n",
       "    </tr>\n",
       "  </thead>\n",
       "  <tbody>\n",
       "    <tr>\n",
       "      <th>2020-01-01</th>\n",
       "      <td>10</td>\n",
       "      <td>13</td>\n",
       "      <td>17</td>\n",
       "    </tr>\n",
       "    <tr>\n",
       "      <th>2020-01-02</th>\n",
       "      <td>20</td>\n",
       "      <td>23</td>\n",
       "      <td>27</td>\n",
       "    </tr>\n",
       "    <tr>\n",
       "      <th>2020-01-03</th>\n",
       "      <td>15</td>\n",
       "      <td>18</td>\n",
       "      <td>22</td>\n",
       "    </tr>\n",
       "    <tr>\n",
       "      <th>2020-01-04</th>\n",
       "      <td>30</td>\n",
       "      <td>33</td>\n",
       "      <td>37</td>\n",
       "    </tr>\n",
       "    <tr>\n",
       "      <th>2020-01-05</th>\n",
       "      <td>45</td>\n",
       "      <td>48</td>\n",
       "      <td>52</td>\n",
       "    </tr>\n",
       "  </tbody>\n",
       "</table>\n",
       "</div>"
      ],
      "text/plain": [
       "            Col1  Col2  Col3\n",
       "2020-01-01    10    13    17\n",
       "2020-01-02    20    23    27\n",
       "2020-01-03    15    18    22\n",
       "2020-01-04    30    33    37\n",
       "2020-01-05    45    48    52"
      ]
     },
     "execution_count": 5,
     "metadata": {},
     "output_type": "execute_result"
    }
   ],
   "source": [
    "df = pd.DataFrame({\"Col1\": [10, 20, 15, 30, 45],\n",
    "                   \"Col2\": [13, 23, 18, 33, 48],\n",
    "                   \"Col3\": [17, 27, 22, 37, 52]},\n",
    "                  index=pd.date_range(\"2020-01-01\", \"2020-01-05\"))\n",
    "df"
   ]
  },
  {
   "cell_type": "code",
   "execution_count": 6,
   "id": "f9acaf68",
   "metadata": {},
   "outputs": [
    {
     "data": {
      "text/html": [
       "<div>\n",
       "<style scoped>\n",
       "    .dataframe tbody tr th:only-of-type {\n",
       "        vertical-align: middle;\n",
       "    }\n",
       "\n",
       "    .dataframe tbody tr th {\n",
       "        vertical-align: top;\n",
       "    }\n",
       "\n",
       "    .dataframe thead th {\n",
       "        text-align: right;\n",
       "    }\n",
       "</style>\n",
       "<table border=\"1\" class=\"dataframe\">\n",
       "  <thead>\n",
       "    <tr style=\"text-align: right;\">\n",
       "      <th></th>\n",
       "      <th>Col1</th>\n",
       "      <th>Col2</th>\n",
       "      <th>Col3</th>\n",
       "    </tr>\n",
       "  </thead>\n",
       "  <tbody>\n",
       "    <tr>\n",
       "      <th>2020-01-01</th>\n",
       "      <td>20.0</td>\n",
       "      <td>23.0</td>\n",
       "      <td>27.0</td>\n",
       "    </tr>\n",
       "    <tr>\n",
       "      <th>2020-01-02</th>\n",
       "      <td>15.0</td>\n",
       "      <td>18.0</td>\n",
       "      <td>22.0</td>\n",
       "    </tr>\n",
       "    <tr>\n",
       "      <th>2020-01-03</th>\n",
       "      <td>30.0</td>\n",
       "      <td>33.0</td>\n",
       "      <td>37.0</td>\n",
       "    </tr>\n",
       "    <tr>\n",
       "      <th>2020-01-04</th>\n",
       "      <td>45.0</td>\n",
       "      <td>48.0</td>\n",
       "      <td>52.0</td>\n",
       "    </tr>\n",
       "    <tr>\n",
       "      <th>2020-01-05</th>\n",
       "      <td>NaN</td>\n",
       "      <td>NaN</td>\n",
       "      <td>NaN</td>\n",
       "    </tr>\n",
       "  </tbody>\n",
       "</table>\n",
       "</div>"
      ],
      "text/plain": [
       "            Col1  Col2  Col3\n",
       "2020-01-01  20.0  23.0  27.0\n",
       "2020-01-02  15.0  18.0  22.0\n",
       "2020-01-03  30.0  33.0  37.0\n",
       "2020-01-04  45.0  48.0  52.0\n",
       "2020-01-05   NaN   NaN   NaN"
      ]
     },
     "execution_count": 6,
     "metadata": {},
     "output_type": "execute_result"
    }
   ],
   "source": [
    "df['hello'] = df.shift(periods=-1)"
   ]
  },
  {
   "cell_type": "code",
   "execution_count": null,
   "id": "548946bf",
   "metadata": {},
   "outputs": [],
   "source": []
  }
 ],
 "metadata": {
  "kernelspec": {
   "display_name": "Python 3 (ipykernel)",
   "language": "python",
   "name": "python3"
  },
  "language_info": {
   "codemirror_mode": {
    "name": "ipython",
    "version": 3
   },
   "file_extension": ".py",
   "mimetype": "text/x-python",
   "name": "python",
   "nbconvert_exporter": "python",
   "pygments_lexer": "ipython3",
   "version": "3.9.13"
  }
 },
 "nbformat": 4,
 "nbformat_minor": 5
}
