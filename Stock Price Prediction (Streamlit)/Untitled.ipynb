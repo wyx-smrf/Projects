{
 "cells": [
  {
   "cell_type": "markdown",
   "id": "4938fe66",
   "metadata": {},
   "source": [
    "# Downloading S&P 500 price data"
   ]
  },
  {
   "cell_type": "code",
   "execution_count": 3,
   "id": "2b9d0afd",
   "metadata": {},
   "outputs": [],
   "source": [
    "import yfinance as yf"
   ]
  },
  {
   "cell_type": "code",
   "execution_count": 4,
   "id": "1cb69cbc",
   "metadata": {},
   "outputs": [],
   "source": [
    "sp500 = yf.Ticker(\"^GSPC\")"
   ]
  },
  {
   "cell_type": "code",
   "execution_count": 5,
   "id": "d68e731b",
   "metadata": {},
   "outputs": [],
   "source": [
    "sp500 = sp500.history(period='max')"
   ]
  },
  {
   "cell_type": "code",
   "execution_count": 6,
   "id": "f2d6a300",
   "metadata": {},
   "outputs": [
    {
     "data": {
      "text/html": [
       "<div>\n",
       "<style scoped>\n",
       "    .dataframe tbody tr th:only-of-type {\n",
       "        vertical-align: middle;\n",
       "    }\n",
       "\n",
       "    .dataframe tbody tr th {\n",
       "        vertical-align: top;\n",
       "    }\n",
       "\n",
       "    .dataframe thead th {\n",
       "        text-align: right;\n",
       "    }\n",
       "</style>\n",
       "<table border=\"1\" class=\"dataframe\">\n",
       "  <thead>\n",
       "    <tr style=\"text-align: right;\">\n",
       "      <th></th>\n",
       "      <th>Open</th>\n",
       "      <th>High</th>\n",
       "      <th>Low</th>\n",
       "      <th>Close</th>\n",
       "      <th>Volume</th>\n",
       "      <th>Dividends</th>\n",
       "      <th>Stock Splits</th>\n",
       "    </tr>\n",
       "    <tr>\n",
       "      <th>Date</th>\n",
       "      <th></th>\n",
       "      <th></th>\n",
       "      <th></th>\n",
       "      <th></th>\n",
       "      <th></th>\n",
       "      <th></th>\n",
       "      <th></th>\n",
       "    </tr>\n",
       "  </thead>\n",
       "  <tbody>\n",
       "    <tr>\n",
       "      <th>1950-01-03 00:00:00-05:00</th>\n",
       "      <td>16.660000</td>\n",
       "      <td>16.660000</td>\n",
       "      <td>16.660000</td>\n",
       "      <td>16.660000</td>\n",
       "      <td>1260000</td>\n",
       "      <td>0</td>\n",
       "      <td>0</td>\n",
       "    </tr>\n",
       "    <tr>\n",
       "      <th>1950-01-04 00:00:00-05:00</th>\n",
       "      <td>16.850000</td>\n",
       "      <td>16.850000</td>\n",
       "      <td>16.850000</td>\n",
       "      <td>16.850000</td>\n",
       "      <td>1890000</td>\n",
       "      <td>0</td>\n",
       "      <td>0</td>\n",
       "    </tr>\n",
       "    <tr>\n",
       "      <th>1950-01-05 00:00:00-05:00</th>\n",
       "      <td>16.930000</td>\n",
       "      <td>16.930000</td>\n",
       "      <td>16.930000</td>\n",
       "      <td>16.930000</td>\n",
       "      <td>2550000</td>\n",
       "      <td>0</td>\n",
       "      <td>0</td>\n",
       "    </tr>\n",
       "    <tr>\n",
       "      <th>1950-01-06 00:00:00-05:00</th>\n",
       "      <td>16.980000</td>\n",
       "      <td>16.980000</td>\n",
       "      <td>16.980000</td>\n",
       "      <td>16.980000</td>\n",
       "      <td>2010000</td>\n",
       "      <td>0</td>\n",
       "      <td>0</td>\n",
       "    </tr>\n",
       "    <tr>\n",
       "      <th>1950-01-09 00:00:00-05:00</th>\n",
       "      <td>17.080000</td>\n",
       "      <td>17.080000</td>\n",
       "      <td>17.080000</td>\n",
       "      <td>17.080000</td>\n",
       "      <td>2520000</td>\n",
       "      <td>0</td>\n",
       "      <td>0</td>\n",
       "    </tr>\n",
       "    <tr>\n",
       "      <th>...</th>\n",
       "      <td>...</td>\n",
       "      <td>...</td>\n",
       "      <td>...</td>\n",
       "      <td>...</td>\n",
       "      <td>...</td>\n",
       "      <td>...</td>\n",
       "      <td>...</td>\n",
       "    </tr>\n",
       "    <tr>\n",
       "      <th>2022-10-17 00:00:00-04:00</th>\n",
       "      <td>3638.649902</td>\n",
       "      <td>3689.729980</td>\n",
       "      <td>3638.649902</td>\n",
       "      <td>3677.949951</td>\n",
       "      <td>4352780000</td>\n",
       "      <td>0</td>\n",
       "      <td>0</td>\n",
       "    </tr>\n",
       "    <tr>\n",
       "      <th>2022-10-18 00:00:00-04:00</th>\n",
       "      <td>3746.260010</td>\n",
       "      <td>3762.790039</td>\n",
       "      <td>3686.530029</td>\n",
       "      <td>3719.979980</td>\n",
       "      <td>4483740000</td>\n",
       "      <td>0</td>\n",
       "      <td>0</td>\n",
       "    </tr>\n",
       "    <tr>\n",
       "      <th>2022-10-19 00:00:00-04:00</th>\n",
       "      <td>3703.110107</td>\n",
       "      <td>3728.580078</td>\n",
       "      <td>3666.510010</td>\n",
       "      <td>3695.159912</td>\n",
       "      <td>4223800000</td>\n",
       "      <td>0</td>\n",
       "      <td>0</td>\n",
       "    </tr>\n",
       "    <tr>\n",
       "      <th>2022-10-20 00:00:00-04:00</th>\n",
       "      <td>3689.050049</td>\n",
       "      <td>3736.000000</td>\n",
       "      <td>3656.439941</td>\n",
       "      <td>3665.780029</td>\n",
       "      <td>4496620000</td>\n",
       "      <td>0</td>\n",
       "      <td>0</td>\n",
       "    </tr>\n",
       "    <tr>\n",
       "      <th>2022-10-21 00:00:00-04:00</th>\n",
       "      <td>3657.100098</td>\n",
       "      <td>3757.889893</td>\n",
       "      <td>3647.419922</td>\n",
       "      <td>3752.750000</td>\n",
       "      <td>5078020000</td>\n",
       "      <td>0</td>\n",
       "      <td>0</td>\n",
       "    </tr>\n",
       "  </tbody>\n",
       "</table>\n",
       "<p>18321 rows × 7 columns</p>\n",
       "</div>"
      ],
      "text/plain": [
       "                                  Open         High          Low        Close  \\\n",
       "Date                                                                            \n",
       "1950-01-03 00:00:00-05:00    16.660000    16.660000    16.660000    16.660000   \n",
       "1950-01-04 00:00:00-05:00    16.850000    16.850000    16.850000    16.850000   \n",
       "1950-01-05 00:00:00-05:00    16.930000    16.930000    16.930000    16.930000   \n",
       "1950-01-06 00:00:00-05:00    16.980000    16.980000    16.980000    16.980000   \n",
       "1950-01-09 00:00:00-05:00    17.080000    17.080000    17.080000    17.080000   \n",
       "...                                ...          ...          ...          ...   \n",
       "2022-10-17 00:00:00-04:00  3638.649902  3689.729980  3638.649902  3677.949951   \n",
       "2022-10-18 00:00:00-04:00  3746.260010  3762.790039  3686.530029  3719.979980   \n",
       "2022-10-19 00:00:00-04:00  3703.110107  3728.580078  3666.510010  3695.159912   \n",
       "2022-10-20 00:00:00-04:00  3689.050049  3736.000000  3656.439941  3665.780029   \n",
       "2022-10-21 00:00:00-04:00  3657.100098  3757.889893  3647.419922  3752.750000   \n",
       "\n",
       "                               Volume  Dividends  Stock Splits  \n",
       "Date                                                            \n",
       "1950-01-03 00:00:00-05:00     1260000          0             0  \n",
       "1950-01-04 00:00:00-05:00     1890000          0             0  \n",
       "1950-01-05 00:00:00-05:00     2550000          0             0  \n",
       "1950-01-06 00:00:00-05:00     2010000          0             0  \n",
       "1950-01-09 00:00:00-05:00     2520000          0             0  \n",
       "...                               ...        ...           ...  \n",
       "2022-10-17 00:00:00-04:00  4352780000          0             0  \n",
       "2022-10-18 00:00:00-04:00  4483740000          0             0  \n",
       "2022-10-19 00:00:00-04:00  4223800000          0             0  \n",
       "2022-10-20 00:00:00-04:00  4496620000          0             0  \n",
       "2022-10-21 00:00:00-04:00  5078020000          0             0  \n",
       "\n",
       "[18321 rows x 7 columns]"
      ]
     },
     "execution_count": 6,
     "metadata": {},
     "output_type": "execute_result"
    }
   ],
   "source": [
    "sp500"
   ]
  },
  {
   "cell_type": "code",
   "execution_count": 7,
   "id": "01377b2c",
   "metadata": {},
   "outputs": [
    {
     "data": {
      "text/plain": [
       "DatetimeIndex(['1950-01-03 00:00:00-05:00', '1950-01-04 00:00:00-05:00',\n",
       "               '1950-01-05 00:00:00-05:00', '1950-01-06 00:00:00-05:00',\n",
       "               '1950-01-09 00:00:00-05:00', '1950-01-10 00:00:00-05:00',\n",
       "               '1950-01-11 00:00:00-05:00', '1950-01-12 00:00:00-05:00',\n",
       "               '1950-01-13 00:00:00-05:00', '1950-01-16 00:00:00-05:00',\n",
       "               ...\n",
       "               '2022-10-10 00:00:00-04:00', '2022-10-11 00:00:00-04:00',\n",
       "               '2022-10-12 00:00:00-04:00', '2022-10-13 00:00:00-04:00',\n",
       "               '2022-10-14 00:00:00-04:00', '2022-10-17 00:00:00-04:00',\n",
       "               '2022-10-18 00:00:00-04:00', '2022-10-19 00:00:00-04:00',\n",
       "               '2022-10-20 00:00:00-04:00', '2022-10-21 00:00:00-04:00'],\n",
       "              dtype='datetime64[ns, America/New_York]', name='Date', length=18321, freq=None)"
      ]
     },
     "execution_count": 7,
     "metadata": {},
     "output_type": "execute_result"
    }
   ],
   "source": [
    "sp500.index"
   ]
  },
  {
   "cell_type": "markdown",
   "id": "33d9ce89",
   "metadata": {},
   "source": [
    "# Cleaning and visualizing our stock market data"
   ]
  },
  {
   "cell_type": "code",
   "execution_count": 8,
   "id": "b3adf306",
   "metadata": {},
   "outputs": [
    {
     "data": {
      "text/plain": [
       "<AxesSubplot:xlabel='Date'>"
      ]
     },
     "execution_count": 8,
     "metadata": {},
     "output_type": "execute_result"
    },
    {
     "data": {
      "image/png": "[encoded data removed]",
      "text/plain": [
       "<Figure size 432x288 with 1 Axes>"
      ]
     },
     "metadata": {
      "needs_background": "light"
     },
     "output_type": "display_data"
    }
   ],
   "source": [
    "sp500.plot.line(y=\"Close\", use_index=True)"
   ]
  },
  {
   "cell_type": "code",
   "execution_count": 9,
   "id": "18778021",
   "metadata": {},
   "outputs": [],
   "source": [
    "del sp500['Dividends']\n",
    "del sp500['Stock Splits']"
   ]
  },
  {
   "cell_type": "markdown",
   "id": "027241c6",
   "metadata": {},
   "source": [
    "# Setting our target for machine learning"
   ]
  },
  {
   "cell_type": "code",
   "execution_count": 10,
   "id": "d26c40af",
   "metadata": {},
   "outputs": [],
   "source": [
    "sp500[\"Tomorrow\"] = sp500[\"Close\"].shift(-1)"
   ]
  },
  {
   "cell_type": "code",
   "execution_count": 11,
   "id": "2c077cd4",
   "metadata": {},
   "outputs": [
    {
     "data": {
      "text/html": [
       "<div>\n",
       "<style scoped>\n",
       "    .dataframe tbody tr th:only-of-type {\n",
       "        vertical-align: middle;\n",
       "    }\n",
       "\n",
       "    .dataframe tbody tr th {\n",
       "        vertical-align: top;\n",
       "    }\n",
       "\n",
       "    .dataframe thead th {\n",
       "        text-align: right;\n",
       "    }\n",
       "</style>\n",
       "<table border=\"1\" class=\"dataframe\">\n",
       "  <thead>\n",
       "    <tr style=\"text-align: right;\">\n",
       "      <th></th>\n",
       "      <th>Open</th>\n",
       "      <th>High</th>\n",
       "      <th>Low</th>\n",
       "      <th>Close</th>\n",
       "      <th>Volume</th>\n",
       "      <th>Tomorrow</th>\n",
       "    </tr>\n",
       "    <tr>\n",
       "      <th>Date</th>\n",
       "      <th></th>\n",
       "      <th></th>\n",
       "      <th></th>\n",
       "      <th></th>\n",
       "      <th></th>\n",
       "      <th></th>\n",
       "    </tr>\n",
       "  </thead>\n",
       "  <tbody>\n",
       "    <tr>\n",
       "      <th>1950-01-03 00:00:00-05:00</th>\n",
       "      <td>16.660000</td>\n",
       "      <td>16.660000</td>\n",
       "      <td>16.660000</td>\n",
       "      <td>16.660000</td>\n",
       "      <td>1260000</td>\n",
       "      <td>16.850000</td>\n",
       "    </tr>\n",
       "    <tr>\n",
       "      <th>1950-01-04 00:00:00-05:00</th>\n",
       "      <td>16.850000</td>\n",
       "      <td>16.850000</td>\n",
       "      <td>16.850000</td>\n",
       "      <td>16.850000</td>\n",
       "      <td>1890000</td>\n",
       "      <td>16.930000</td>\n",
       "    </tr>\n",
       "    <tr>\n",
       "      <th>1950-01-05 00:00:00-05:00</th>\n",
       "      <td>16.930000</td>\n",
       "      <td>16.930000</td>\n",
       "      <td>16.930000</td>\n",
       "      <td>16.930000</td>\n",
       "      <td>2550000</td>\n",
       "      <td>16.980000</td>\n",
       "    </tr>\n",
       "    <tr>\n",
       "      <th>1950-01-06 00:00:00-05:00</th>\n",
       "      <td>16.980000</td>\n",
       "      <td>16.980000</td>\n",
       "      <td>16.980000</td>\n",
       "      <td>16.980000</td>\n",
       "      <td>2010000</td>\n",
       "      <td>17.080000</td>\n",
       "    </tr>\n",
       "    <tr>\n",
       "      <th>1950-01-09 00:00:00-05:00</th>\n",
       "      <td>17.080000</td>\n",
       "      <td>17.080000</td>\n",
       "      <td>17.080000</td>\n",
       "      <td>17.080000</td>\n",
       "      <td>2520000</td>\n",
       "      <td>17.030001</td>\n",
       "    </tr>\n",
       "    <tr>\n",
       "      <th>...</th>\n",
       "      <td>...</td>\n",
       "      <td>...</td>\n",
       "      <td>...</td>\n",
       "      <td>...</td>\n",
       "      <td>...</td>\n",
       "      <td>...</td>\n",
       "    </tr>\n",
       "    <tr>\n",
       "      <th>2022-10-17 00:00:00-04:00</th>\n",
       "      <td>3638.649902</td>\n",
       "      <td>3689.729980</td>\n",
       "      <td>3638.649902</td>\n",
       "      <td>3677.949951</td>\n",
       "      <td>4352780000</td>\n",
       "      <td>3719.979980</td>\n",
       "    </tr>\n",
       "    <tr>\n",
       "      <th>2022-10-18 00:00:00-04:00</th>\n",
       "      <td>3746.260010</td>\n",
       "      <td>3762.790039</td>\n",
       "      <td>3686.530029</td>\n",
       "      <td>3719.979980</td>\n",
       "      <td>4483740000</td>\n",
       "      <td>3695.159912</td>\n",
       "    </tr>\n",
       "    <tr>\n",
       "      <th>2022-10-19 00:00:00-04:00</th>\n",
       "      <td>3703.110107</td>\n",
       "      <td>3728.580078</td>\n",
       "      <td>3666.510010</td>\n",
       "      <td>3695.159912</td>\n",
       "      <td>4223800000</td>\n",
       "      <td>3665.780029</td>\n",
       "    </tr>\n",
       "    <tr>\n",
       "      <th>2022-10-20 00:00:00-04:00</th>\n",
       "      <td>3689.050049</td>\n",
       "      <td>3736.000000</td>\n",
       "      <td>3656.439941</td>\n",
       "      <td>3665.780029</td>\n",
       "      <td>4496620000</td>\n",
       "      <td>3752.750000</td>\n",
       "    </tr>\n",
       "    <tr>\n",
       "      <th>2022-10-21 00:00:00-04:00</th>\n",
       "      <td>3657.100098</td>\n",
       "      <td>3757.889893</td>\n",
       "      <td>3647.419922</td>\n",
       "      <td>3752.750000</td>\n",
       "      <td>5078020000</td>\n",
       "      <td>NaN</td>\n",
       "    </tr>\n",
       "  </tbody>\n",
       "</table>\n",
       "<p>18321 rows × 6 columns</p>\n",
       "</div>"
      ],
      "text/plain": [
       "                                  Open         High          Low        Close  \\\n",
       "Date                                                                            \n",
       "1950-01-03 00:00:00-05:00    16.660000    16.660000    16.660000    16.660000   \n",
       "1950-01-04 00:00:00-05:00    16.850000    16.850000    16.850000    16.850000   \n",
       "1950-01-05 00:00:00-05:00    16.930000    16.930000    16.930000    16.930000   \n",
       "1950-01-06 00:00:00-05:00    16.980000    16.980000    16.980000    16.980000   \n",
       "1950-01-09 00:00:00-05:00    17.080000    17.080000    17.080000    17.080000   \n",
       "...                                ...          ...          ...          ...   \n",
       "2022-10-17 00:00:00-04:00  3638.649902  3689.729980  3638.649902  3677.949951   \n",
       "2022-10-18 00:00:00-04:00  3746.260010  3762.790039  3686.530029  3719.979980   \n",
       "2022-10-19 00:00:00-04:00  3703.110107  3728.580078  3666.510010  3695.159912   \n",
       "2022-10-20 00:00:00-04:00  3689.050049  3736.000000  3656.439941  3665.780029   \n",
       "2022-10-21 00:00:00-04:00  3657.100098  3757.889893  3647.419922  3752.750000   \n",
       "\n",
       "                               Volume     Tomorrow  \n",
       "Date                                                \n",
       "1950-01-03 00:00:00-05:00     1260000    16.850000  \n",
       "1950-01-04 00:00:00-05:00     1890000    16.930000  \n",
       "1950-01-05 00:00:00-05:00     2550000    16.980000  \n",
       "1950-01-06 00:00:00-05:00     2010000    17.080000  \n",
       "1950-01-09 00:00:00-05:00     2520000    17.030001  \n",
       "...                               ...          ...  \n",
       "2022-10-17 00:00:00-04:00  4352780000  3719.979980  \n",
       "2022-10-18 00:00:00-04:00  4483740000  3695.159912  \n",
       "2022-10-19 00:00:00-04:00  4223800000  3665.780029  \n",
       "2022-10-20 00:00:00-04:00  4496620000  3752.750000  \n",
       "2022-10-21 00:00:00-04:00  5078020000          NaN  \n",
       "\n",
       "[18321 rows x 6 columns]"
      ]
     },
     "execution_count": 11,
     "metadata": {},
     "output_type": "execute_result"
    }
   ],
   "source": [
    "sp500"
   ]
  },
  {
   "cell_type": "code",
   "execution_count": 12,
   "id": "cf4ae8ed",
   "metadata": {},
   "outputs": [
    {
     "ename": "AttributeError",
     "evalue": "'Series' object has no attribute 'asint'",
     "output_type": "error",
     "traceback": [
      "\u001b[1;31m---------------------------------------------------------------------------\u001b[0m",
      "\u001b[1;31mAttributeError\u001b[0m                            Traceback (most recent call last)",
      "Input \u001b[1;32mIn [12]\u001b[0m, in \u001b[0;36m<cell line: 1>\u001b[1;34m()\u001b[0m\n\u001b[1;32m----> 1\u001b[0m sp500[\u001b[38;5;124m\"\u001b[39m\u001b[38;5;124mTarget\u001b[39m\u001b[38;5;124m\"\u001b[39m] \u001b[38;5;241m=\u001b[39m \u001b[43m(\u001b[49m\u001b[43msp500\u001b[49m\u001b[43m[\u001b[49m\u001b[38;5;124;43m\"\u001b[39;49m\u001b[38;5;124;43mTomorrow\u001b[39;49m\u001b[38;5;124;43m\"\u001b[39;49m\u001b[43m]\u001b[49m\u001b[43m \u001b[49m\u001b[38;5;241;43m>\u001b[39;49m\u001b[43m \u001b[49m\u001b[43msp500\u001b[49m\u001b[43m[\u001b[49m\u001b[38;5;124;43m\"\u001b[39;49m\u001b[38;5;124;43mClose\u001b[39;49m\u001b[38;5;124;43m\"\u001b[39;49m\u001b[43m]\u001b[49m\u001b[43m)\u001b[49m\u001b[38;5;241;43m.\u001b[39;49m\u001b[43masint\u001b[49m(\u001b[38;5;28mint\u001b[39m)\n",
      "File \u001b[1;32m~\\Anaconda\\lib\\site-packages\\pandas\\core\\generic.py:5575\u001b[0m, in \u001b[0;36mNDFrame.__getattr__\u001b[1;34m(self, name)\u001b[0m\n\u001b[0;32m   5568\u001b[0m \u001b[38;5;28;01mif\u001b[39;00m (\n\u001b[0;32m   5569\u001b[0m     name \u001b[38;5;129;01mnot\u001b[39;00m \u001b[38;5;129;01min\u001b[39;00m \u001b[38;5;28mself\u001b[39m\u001b[38;5;241m.\u001b[39m_internal_names_set\n\u001b[0;32m   5570\u001b[0m     \u001b[38;5;129;01mand\u001b[39;00m name \u001b[38;5;129;01mnot\u001b[39;00m \u001b[38;5;129;01min\u001b[39;00m \u001b[38;5;28mself\u001b[39m\u001b[38;5;241m.\u001b[39m_metadata\n\u001b[0;32m   5571\u001b[0m     \u001b[38;5;129;01mand\u001b[39;00m name \u001b[38;5;129;01mnot\u001b[39;00m \u001b[38;5;129;01min\u001b[39;00m \u001b[38;5;28mself\u001b[39m\u001b[38;5;241m.\u001b[39m_accessors\n\u001b[0;32m   5572\u001b[0m     \u001b[38;5;129;01mand\u001b[39;00m \u001b[38;5;28mself\u001b[39m\u001b[38;5;241m.\u001b[39m_info_axis\u001b[38;5;241m.\u001b[39m_can_hold_identifiers_and_holds_name(name)\n\u001b[0;32m   5573\u001b[0m ):\n\u001b[0;32m   5574\u001b[0m     \u001b[38;5;28;01mreturn\u001b[39;00m \u001b[38;5;28mself\u001b[39m[name]\n\u001b[1;32m-> 5575\u001b[0m \u001b[38;5;28;01mreturn\u001b[39;00m \u001b[38;5;28;43mobject\u001b[39;49m\u001b[38;5;241;43m.\u001b[39;49m\u001b[38;5;21;43m__getattribute__\u001b[39;49m\u001b[43m(\u001b[49m\u001b[38;5;28;43mself\u001b[39;49m\u001b[43m,\u001b[49m\u001b[43m \u001b[49m\u001b[43mname\u001b[49m\u001b[43m)\u001b[49m\n",
      "\u001b[1;31mAttributeError\u001b[0m: 'Series' object has no attribute 'asint'"
     ]
    }
   ],
   "source": [
    "sp500[\"Target\"] = (sp500[\"Tomorrow\"] > sp500[\"Close\"]).asint(int)"
   ]
  },
  {
   "cell_type": "code",
   "execution_count": null,
   "id": "73da1e32",
   "metadata": {},
   "outputs": [],
   "source": []
  }
 ],
 "metadata": {
  "kernelspec": {
   "display_name": "Python 3 (ipykernel)",
   "language": "python",
   "name": "python3"
  },
  "language_info": {
   "codemirror_mode": {
    "name": "ipython",
    "version": 3
   },
   "file_extension": ".py",
   "mimetype": "text/x-python",
   "name": "python",
   "nbconvert_exporter": "python",
   "pygments_lexer": "ipython3",
   "version": "3.9.13"
  }
 },
 "nbformat": 4,
 "nbformat_minor": 5
}
