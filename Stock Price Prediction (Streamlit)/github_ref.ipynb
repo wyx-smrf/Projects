{
 "cells": [
  {
   "cell_type": "markdown",
   "id": "40c77e3d",
   "metadata": {},
   "source": [
    "# Downloading S&P 500 price data"
   ]
  },
  {
   "cell_type": "code",
   "execution_count": 1,
   "id": "f53fcbbf-a62d-4aa2-be7b-9aa4e17a5e48",
   "metadata": {},
   "outputs": [],
   "source": [
    "import yfinance as yf\n",
    "import pandas as pd\n",
    "import os"
   ]
  },
  {
   "cell_type": "code",
   "execution_count": 2,
   "id": "0c4d2b51-1187-44c7-a281-da84d0381dd5",
   "metadata": {},
   "outputs": [],
   "source": [
    "if os.path.exists(\"sp500.csv\"):\n",
    "    sp500 = pd.read_csv(\"sp500.csv\", index_col=0)\n",
    "else:\n",
    "    sp500 = yf.Ticker(\"^GSPC\")\n",
    "    sp500 = sp500.history(period=\"max\")\n",
    "    sp500.to_csv(\"sp500.csv\")"
   ]
  },
  {
   "cell_type": "code",
   "execution_count": 3,
   "id": "f605b43c-8db9-43ae-b2d4-29fc6048b8aa",
   "metadata": {},
   "outputs": [],
   "source": [
    "sp500.index = pd.to_datetime(sp500.index)"
   ]
  },
  {
   "cell_type": "code",
   "execution_count": 4,
   "id": "fbb162ce-7d18-4c14-b349-9014c0d6db42",
   "metadata": {
    "scrolled": true
   },
   "outputs": [
    {
     "data": {
      "text/html": [
       "<div>\n",
       "<style scoped>\n",
       "    .dataframe tbody tr th:only-of-type {\n",
       "        vertical-align: middle;\n",
       "    }\n",
       "\n",
       "    .dataframe tbody tr th {\n",
       "        vertical-align: top;\n",
       "    }\n",
       "\n",
       "    .dataframe thead th {\n",
       "        text-align: right;\n",
       "    }\n",
       "</style>\n",
       "<table border=\"1\" class=\"dataframe\">\n",
       "  <thead>\n",
       "    <tr style=\"text-align: right;\">\n",
       "      <th></th>\n",
       "      <th>Open</th>\n",
       "      <th>High</th>\n",
       "      <th>Low</th>\n",
       "      <th>Close</th>\n",
       "      <th>Volume</th>\n",
       "      <th>Dividends</th>\n",
       "      <th>Stock Splits</th>\n",
       "    </tr>\n",
       "    <tr>\n",
       "      <th>Date</th>\n",
       "      <th></th>\n",
       "      <th></th>\n",
       "      <th></th>\n",
       "      <th></th>\n",
       "      <th></th>\n",
       "      <th></th>\n",
       "      <th></th>\n",
       "    </tr>\n",
       "  </thead>\n",
       "  <tbody>\n",
       "    <tr>\n",
       "      <th>1950-01-03 00:00:00-05:00</th>\n",
       "      <td>16.660000</td>\n",
       "      <td>16.660000</td>\n",
       "      <td>16.660000</td>\n",
       "      <td>16.660000</td>\n",
       "      <td>1260000</td>\n",
       "      <td>0</td>\n",
       "      <td>0</td>\n",
       "    </tr>\n",
       "    <tr>\n",
       "      <th>1950-01-04 00:00:00-05:00</th>\n",
       "      <td>16.850000</td>\n",
       "      <td>16.850000</td>\n",
       "      <td>16.850000</td>\n",
       "      <td>16.850000</td>\n",
       "      <td>1890000</td>\n",
       "      <td>0</td>\n",
       "      <td>0</td>\n",
       "    </tr>\n",
       "    <tr>\n",
       "      <th>1950-01-05 00:00:00-05:00</th>\n",
       "      <td>16.930000</td>\n",
       "      <td>16.930000</td>\n",
       "      <td>16.930000</td>\n",
       "      <td>16.930000</td>\n",
       "      <td>2550000</td>\n",
       "      <td>0</td>\n",
       "      <td>0</td>\n",
       "    </tr>\n",
       "    <tr>\n",
       "      <th>1950-01-06 00:00:00-05:00</th>\n",
       "      <td>16.980000</td>\n",
       "      <td>16.980000</td>\n",
       "      <td>16.980000</td>\n",
       "      <td>16.980000</td>\n",
       "      <td>2010000</td>\n",
       "      <td>0</td>\n",
       "      <td>0</td>\n",
       "    </tr>\n",
       "    <tr>\n",
       "      <th>1950-01-09 00:00:00-05:00</th>\n",
       "      <td>17.080000</td>\n",
       "      <td>17.080000</td>\n",
       "      <td>17.080000</td>\n",
       "      <td>17.080000</td>\n",
       "      <td>2520000</td>\n",
       "      <td>0</td>\n",
       "      <td>0</td>\n",
       "    </tr>\n",
       "    <tr>\n",
       "      <th>...</th>\n",
       "      <td>...</td>\n",
       "      <td>...</td>\n",
       "      <td>...</td>\n",
       "      <td>...</td>\n",
       "      <td>...</td>\n",
       "      <td>...</td>\n",
       "      <td>...</td>\n",
       "    </tr>\n",
       "    <tr>\n",
       "      <th>2022-10-17 00:00:00-04:00</th>\n",
       "      <td>3638.649902</td>\n",
       "      <td>3689.729980</td>\n",
       "      <td>3638.649902</td>\n",
       "      <td>3677.949951</td>\n",
       "      <td>4352780000</td>\n",
       "      <td>0</td>\n",
       "      <td>0</td>\n",
       "    </tr>\n",
       "    <tr>\n",
       "      <th>2022-10-18 00:00:00-04:00</th>\n",
       "      <td>3746.260010</td>\n",
       "      <td>3762.790039</td>\n",
       "      <td>3686.530029</td>\n",
       "      <td>3719.979980</td>\n",
       "      <td>4483740000</td>\n",
       "      <td>0</td>\n",
       "      <td>0</td>\n",
       "    </tr>\n",
       "    <tr>\n",
       "      <th>2022-10-19 00:00:00-04:00</th>\n",
       "      <td>3703.110107</td>\n",
       "      <td>3728.580078</td>\n",
       "      <td>3666.510010</td>\n",
       "      <td>3695.159912</td>\n",
       "      <td>4223800000</td>\n",
       "      <td>0</td>\n",
       "      <td>0</td>\n",
       "    </tr>\n",
       "    <tr>\n",
       "      <th>2022-10-20 00:00:00-04:00</th>\n",
       "      <td>3689.050049</td>\n",
       "      <td>3736.000000</td>\n",
       "      <td>3656.439941</td>\n",
       "      <td>3665.780029</td>\n",
       "      <td>4496620000</td>\n",
       "      <td>0</td>\n",
       "      <td>0</td>\n",
       "    </tr>\n",
       "    <tr>\n",
       "      <th>2022-10-21 00:00:00-04:00</th>\n",
       "      <td>3657.100098</td>\n",
       "      <td>3757.889893</td>\n",
       "      <td>3647.419922</td>\n",
       "      <td>3752.750000</td>\n",
       "      <td>5078020000</td>\n",
       "      <td>0</td>\n",
       "      <td>0</td>\n",
       "    </tr>\n",
       "  </tbody>\n",
       "</table>\n",
       "<p>18321 rows × 7 columns</p>\n",
       "</div>"
      ],
      "text/plain": [
       "                                  Open         High          Low        Close  \\\n",
       "Date                                                                            \n",
       "1950-01-03 00:00:00-05:00    16.660000    16.660000    16.660000    16.660000   \n",
       "1950-01-04 00:00:00-05:00    16.850000    16.850000    16.850000    16.850000   \n",
       "1950-01-05 00:00:00-05:00    16.930000    16.930000    16.930000    16.930000   \n",
       "1950-01-06 00:00:00-05:00    16.980000    16.980000    16.980000    16.980000   \n",
       "1950-01-09 00:00:00-05:00    17.080000    17.080000    17.080000    17.080000   \n",
       "...                                ...          ...          ...          ...   \n",
       "2022-10-17 00:00:00-04:00  3638.649902  3689.729980  3638.649902  3677.949951   \n",
       "2022-10-18 00:00:00-04:00  3746.260010  3762.790039  3686.530029  3719.979980   \n",
       "2022-10-19 00:00:00-04:00  3703.110107  3728.580078  3666.510010  3695.159912   \n",
       "2022-10-20 00:00:00-04:00  3689.050049  3736.000000  3656.439941  3665.780029   \n",
       "2022-10-21 00:00:00-04:00  3657.100098  3757.889893  3647.419922  3752.750000   \n",
       "\n",
       "                               Volume  Dividends  Stock Splits  \n",
       "Date                                                            \n",
       "1950-01-03 00:00:00-05:00     1260000          0             0  \n",
       "1950-01-04 00:00:00-05:00     1890000          0             0  \n",
       "1950-01-05 00:00:00-05:00     2550000          0             0  \n",
       "1950-01-06 00:00:00-05:00     2010000          0             0  \n",
       "1950-01-09 00:00:00-05:00     2520000          0             0  \n",
       "...                               ...        ...           ...  \n",
       "2022-10-17 00:00:00-04:00  4352780000          0             0  \n",
       "2022-10-18 00:00:00-04:00  4483740000          0             0  \n",
       "2022-10-19 00:00:00-04:00  4223800000          0             0  \n",
       "2022-10-20 00:00:00-04:00  4496620000          0             0  \n",
       "2022-10-21 00:00:00-04:00  5078020000          0             0  \n",
       "\n",
       "[18321 rows x 7 columns]"
      ]
     },
     "execution_count": 4,
     "metadata": {},
     "output_type": "execute_result"
    }
   ],
   "source": [
    "sp500"
   ]
  },
  {
   "cell_type": "markdown",
   "id": "7e5a87f4",
   "metadata": {},
   "source": [
    "# Cleaning and visualizing our stock market data"
   ]
  },
  {
   "cell_type": "code",
   "execution_count": null,
   "id": "3e7ddd5b-9c2d-4c13-8210-72a4adb61159",
   "metadata": {},
   "outputs": [],
   "source": [
    "sp500.plot.line(y=\"Close\", use_index=True)"
   ]
  },
  {
   "cell_type": "code",
   "execution_count": null,
   "id": "1b02b64d-9eef-489f-894d-26f9e6792db5",
   "metadata": {},
   "outputs": [],
   "source": [
    "del sp500[\"Dividends\"]\n",
    "del sp500[\"Stock Splits\"]"
   ]
  },
  {
   "cell_type": "markdown",
   "id": "f551c182",
   "metadata": {},
   "source": [
    "# Setting our target for machine learning"
   ]
  },
  {
   "cell_type": "code",
   "execution_count": null,
   "id": "f25e1594-1cd2-47ae-bb50-a0d17ac35c69",
   "metadata": {},
   "outputs": [],
   "source": [
    "sp500[\"Tomorrow\"] = sp500[\"Close\"].shift(-1)"
   ]
  },
  {
   "cell_type": "code",
   "execution_count": null,
   "id": "871b16a1-9d77-40c8-8564-1947b438a113",
   "metadata": {},
   "outputs": [],
   "source": [
    "sp500[\"Target\"] = (sp500[\"Tomorrow\"] > sp500[\"Close\"]).astype(int)"
   ]
  },
  {
   "cell_type": "code",
   "execution_count": null,
   "id": "79e58626-3be6-45f7-b1aa-1786593e3bd6",
   "metadata": {},
   "outputs": [],
   "source": [
    "# Remove the data that came before 1990\n",
    "\n",
    "sp500 = sp500.loc[\"1990-01-01\":].copy()"
   ]
  },
  {
   "cell_type": "code",
   "execution_count": null,
   "id": "2359aac5-6f8a-463c-8069-9c4fa1a83305",
   "metadata": {},
   "outputs": [],
   "source": [
    "sp500"
   ]
  },
  {
   "cell_type": "markdown",
   "id": "bfc757f5",
   "metadata": {},
   "source": [
    "# Training an initial machine learning model"
   ]
  },
  {
   "cell_type": "code",
   "execution_count": null,
   "id": "ad95d689-520a-4141-ab6e-a0fe3f9697a6",
   "metadata": {},
   "outputs": [],
   "source": [
    "from sklearn.ensemble import RandomForestClassifier\n",
    "\n",
    "model = RandomForestClassifier(n_estimators=100, min_samples_split=100, random_state=1)\n",
    "\n",
    "train = sp500.iloc[:-100]\n",
    "test = sp500.iloc[-100:]\n",
    "\n",
    "predictors = [\"Close\", \"Volume\", \"Open\", \"High\", \"Low\"]\n",
    "model.fit(train[predictors], train[\"Target\"])"
   ]
  },
  {
   "cell_type": "code",
   "execution_count": null,
   "id": "c0837787-5d4e-4a20-ad0d-3a546bc23cdb",
   "metadata": {},
   "outputs": [],
   "source": [
    "from sklearn.metrics import precision_score\n",
    "\n",
    "preds = model.predict(test[predictors])\n",
    "preds = pd.Series(preds, index=test.index)\n",
    "precision_score(test[\"Target\"], preds)"
   ]
  },
  {
   "cell_type": "code",
   "execution_count": null,
   "id": "e33e349f-8365-4282-91db-3b5824e83262",
   "metadata": {},
   "outputs": [],
   "source": [
    "combined = pd.concat([test[\"Target\"], preds], axis=1)\n",
    "combined.plot()"
   ]
  },
  {
   "cell_type": "markdown",
   "id": "2829ce9f",
   "metadata": {},
   "source": [
    "# Building a Backtesting System"
   ]
  },
  {
   "cell_type": "code",
   "execution_count": null,
   "id": "d4049497-0ee7-4399-83ab-ef61ccf71133",
   "metadata": {},
   "outputs": [],
   "source": [
    "def predict(train, test, predictors, model):\n",
    "    model.fit(train[predictors], train[\"Target\"])\n",
    "    preds = model.predict(test[predictors])\n",
    "    preds = pd.Series(preds, index=test.index, name=\"Predictions\")\n",
    "    combined = pd.concat([test[\"Target\"], preds], axis=1)\n",
    "    return combined"
   ]
  },
  {
   "cell_type": "code",
   "execution_count": null,
   "id": "ca97d93a-6841-49ef-8f91-25a713baef16",
   "metadata": {},
   "outputs": [],
   "source": [
    "def backtest(data, model, predictors, start=2500, step=250):\n",
    "    all_predictions = []\n",
    "\n",
    "    for i in range(start, data.shape[0], step):\n",
    "        train = data.iloc[0:i].copy()\n",
    "        test = data.iloc[i:(i+step)].copy()\n",
    "        predictions = predict(train, test, predictors, model)\n",
    "        all_predictions.append(predictions)\n",
    "    \n",
    "    return pd.concat(all_predictions)"
   ]
  },
  {
   "cell_type": "code",
   "execution_count": null,
   "id": "8a75261f-d2de-4bc6-9364-54d520c63985",
   "metadata": {},
   "outputs": [],
   "source": [
    "predictions = backtest(sp500, model, predictors)"
   ]
  },
  {
   "cell_type": "code",
   "execution_count": null,
   "id": "439d8704-c55d-4d1f-a709-acdc0f485e87",
   "metadata": {},
   "outputs": [],
   "source": [
    "predictions[\"Predictions\"].value_counts()"
   ]
  },
  {
   "cell_type": "code",
   "execution_count": null,
   "id": "bf105e8f-6be5-4494-9658-233761f1c4f4",
   "metadata": {},
   "outputs": [],
   "source": [
    "precision_score(predictions[\"Target\"], predictions[\"Predictions\"])"
   ]
  },
  {
   "cell_type": "code",
   "execution_count": null,
   "id": "eff25a20-375e-444a-b5d3-b558753fc817",
   "metadata": {},
   "outputs": [],
   "source": [
    "predictions[\"Target\"].value_counts() / predictions.shape[0]"
   ]
  },
  {
   "cell_type": "markdown",
   "id": "4369fc28",
   "metadata": {},
   "source": [
    "# Adding additionaly predictors to our model"
   ]
  },
  {
   "cell_type": "code",
   "execution_count": null,
   "id": "ed05ece5-f1f4-443a-b179-33c7e709ea4d",
   "metadata": {},
   "outputs": [],
   "source": [
    "horizons = [2,5,60,250,1000]\n",
    "new_predictors = []\n",
    "\n",
    "for horizon in horizons:\n",
    "    rolling_averages = sp500.rolling(horizon).mean()\n",
    "    \n",
    "    ratio_column = f\"Close_Ratio_{horizon}\"\n",
    "    sp500[ratio_column] = sp500[\"Close\"] / rolling_averages[\"Close\"]\n",
    "    \n",
    "    trend_column = f\"Trend_{horizon}\"\n",
    "    sp500[trend_column] = sp500.shift(1).rolling(horizon).sum()[\"Target\"]\n",
    "    \n",
    "    new_predictors+= [ratio_column, trend_column]"
   ]
  },
  {
   "cell_type": "code",
   "execution_count": null,
   "id": "6c04ab2d-64ff-4f56-a206-605dcce30372",
   "metadata": {},
   "outputs": [],
   "source": [
    "sp500 = sp500.dropna(subset=sp500.columns[sp500.columns != \"Tomorrow\"])"
   ]
  },
  {
   "cell_type": "code",
   "execution_count": null,
   "id": "fd7b2523-85a4-477d-975d-9cf64b1ff557",
   "metadata": {},
   "outputs": [],
   "source": [
    "sp500"
   ]
  },
  {
   "cell_type": "markdown",
   "id": "39bfd43a",
   "metadata": {},
   "source": [
    "# Improving our model"
   ]
  },
  {
   "cell_type": "code",
   "execution_count": null,
   "id": "283be581-dbe1-4f02-8851-ff1a027b4104",
   "metadata": {},
   "outputs": [],
   "source": [
    "model = RandomForestClassifier(n_estimators=200, min_samples_split=50, random_state=1)"
   ]
  },
  {
   "cell_type": "code",
   "execution_count": null,
   "id": "a843303c-a247-4f6d-9505-cc711ca95afa",
   "metadata": {},
   "outputs": [],
   "source": [
    "def predict(train, test, predictors, model):\n",
    "    model.fit(train[predictors], train[\"Target\"])\n",
    "    preds = model.predict_proba(test[predictors])[:,1]\n",
    "    preds[preds >=.6] = 1\n",
    "    preds[preds <.6] = 0\n",
    "    preds = pd.Series(preds, index=test.index, name=\"Predictions\")\n",
    "    combined = pd.concat([test[\"Target\"], preds], axis=1)\n",
    "    return combined"
   ]
  },
  {
   "cell_type": "code",
   "execution_count": null,
   "id": "fb820946-1275-4914-b6a8-355e96f315b6",
   "metadata": {},
   "outputs": [],
   "source": [
    "predictions = backtest(sp500, model, new_predictors)"
   ]
  },
  {
   "cell_type": "code",
   "execution_count": null,
   "id": "a73e1816-283a-47ac-af43-4550b80307ef",
   "metadata": {},
   "outputs": [],
   "source": [
    "predictions[\"Predictions\"].value_counts()"
   ]
  },
  {
   "cell_type": "code",
   "execution_count": null,
   "id": "14acc336-4991-4189-bb16-4a8bf53056e1",
   "metadata": {},
   "outputs": [],
   "source": [
    "precision_score(predictions[\"Target\"], predictions[\"Predictions\"])"
   ]
  },
  {
   "cell_type": "code",
   "execution_count": null,
   "id": "21b3d365-2157-4229-a785-ae687da0f21f",
   "metadata": {},
   "outputs": [],
   "source": [
    "predictions[\"Target\"].value_counts() / predictions.shape[0]"
   ]
  },
  {
   "cell_type": "code",
   "execution_count": null,
   "id": "ef08fff5-0dd5-4d86-9d0d-8ce9f7443865",
   "metadata": {},
   "outputs": [],
   "source": [
    "predictions"
   ]
  },
  {
   "cell_type": "markdown",
   "id": "e10a8ad3",
   "metadata": {},
   "source": [
    "Recommendation\n",
    "\n",
    "- "
   ]
  }
 ],
 "metadata": {
  "kernelspec": {
   "display_name": "Python 3 (ipykernel)",
   "language": "python",
   "name": "python3"
  },
  "language_info": {
   "codemirror_mode": {
    "name": "ipython",
    "version": 3
   },
   "file_extension": ".py",
   "mimetype": "text/x-python",
   "name": "python",
   "nbconvert_exporter": "python",
   "pygments_lexer": "ipython3",
   "version": "3.9.13"
  }
 },
 "nbformat": 4,
 "nbformat_minor": 5
}
